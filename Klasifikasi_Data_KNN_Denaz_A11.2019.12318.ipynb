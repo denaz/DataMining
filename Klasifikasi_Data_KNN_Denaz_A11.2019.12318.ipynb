{
  "nbformat": 4,
  "nbformat_minor": 0,
  "metadata": {
    "colab": {
      "name": "KNN.ipynb",
      "provenance": [],
      "collapsed_sections": []
    },
    "kernelspec": {
      "name": "python3",
      "display_name": "Python 3"
    },
    "language_info": {
      "name": "python"
    }
  },
  "cells": [
    {
      "cell_type": "code",
      "execution_count": 47,
      "metadata": {
        "id": "sedVYw3ONMHr"
      },
      "outputs": [],
      "source": [
        "import numpy as np\n",
        "import matplotlib.pyplot as plt\n",
        "import pandas as pd"
      ]
    },
    {
      "cell_type": "code",
      "source": [
        "dataset = pd.read_csv('data.csv')\n",
        "x=dataset.iloc[:, [6, 7]].values\n",
        "y=dataset.iloc[:, -2].values"
      ],
      "metadata": {
        "id": "ibkUQpbPPBpx"
      },
      "execution_count": 48,
      "outputs": []
    },
    {
      "cell_type": "code",
      "source": [
        "dataset.head()"
      ],
      "metadata": {
        "colab": {
          "base_uri": "https://localhost:8080/",
          "height": 391
        },
        "id": "F0wgztV41HPV",
        "outputId": "3378890f-27be-4fc9-e7ef-b7a9c593ef66"
      },
      "execution_count": 49,
      "outputs": [
        {
          "output_type": "execute_result",
          "data": {
            "text/plain": [
              "               SONG        ARTIST             GENRE            ALBUM  \\\n",
              "0        Kryptonite  3 Doors Down  Alternative Rock  The Better Life   \n",
              "1            Flying      Anathema  Progressive Doom        Hindsight   \n",
              "2  One Last Goodbye      Anathema  Progressive Doom        Hindsight   \n",
              "3   Velvet Goldmine   David Bowie         Glam Rock       Five Years   \n",
              "4     Lose Yourself        Eminem           Hip-Hop           8 Mile   \n",
              "\n",
              "   ALBUM DATE LENGTH  POPULARITY  DANCE  ENERGY  HAPPY  SPEECH  ACOUSTIC  \\\n",
              "0        2000   3:53          82     55      87     54       3         1   \n",
              "1        2008   6:27          33     25      55      5       3        13   \n",
              "2        2008   6:03          31     38      23     10       3        76   \n",
              "3        2015   3:10          42     62      63     89       3        64   \n",
              "4        2002   5:20          70     68      74      6      27         1   \n",
              "\n",
              "   INSTRUMENTAL  LIVE    LOUD  TEMP      KEY CAMELOT  TIME SIGNATURE  \\\n",
              "0             0    17   -6 db    99  B Minor     10A               4   \n",
              "1             0    13   -8 db   145  C Minor      5A               3   \n",
              "2             0     9   -8 db   100  B Minor     10A               3   \n",
              "3             0    16  -12 db    94  F Major      7B               4   \n",
              "4             0    29   -5 db   171  D Major     10B               4   \n",
              "\n",
              "                       ID  \n",
              "0  6ZOBP3NvffbU4SZcrnt1k6  \n",
              "1  4LknIoUqp497nUCdcd6nRs  \n",
              "2  1jUsNXxk8rz82nUYPnsGla  \n",
              "3  6GCNEAIZVH4lKQD30lfQ6f  \n",
              "4  6GkTKjv1XbFVdI2D8vvDPu  "
            ],
            "text/html": [
              "\n",
              "  <div id=\"df-1f9b273a-7ed9-4090-a29c-081ef8595c44\">\n",
              "    <div class=\"colab-df-container\">\n",
              "      <div>\n",
              "<style scoped>\n",
              "    .dataframe tbody tr th:only-of-type {\n",
              "        vertical-align: middle;\n",
              "    }\n",
              "\n",
              "    .dataframe tbody tr th {\n",
              "        vertical-align: top;\n",
              "    }\n",
              "\n",
              "    .dataframe thead th {\n",
              "        text-align: right;\n",
              "    }\n",
              "</style>\n",
              "<table border=\"1\" class=\"dataframe\">\n",
              "  <thead>\n",
              "    <tr style=\"text-align: right;\">\n",
              "      <th></th>\n",
              "      <th>SONG</th>\n",
              "      <th>ARTIST</th>\n",
              "      <th>GENRE</th>\n",
              "      <th>ALBUM</th>\n",
              "      <th>ALBUM DATE</th>\n",
              "      <th>LENGTH</th>\n",
              "      <th>POPULARITY</th>\n",
              "      <th>DANCE</th>\n",
              "      <th>ENERGY</th>\n",
              "      <th>HAPPY</th>\n",
              "      <th>SPEECH</th>\n",
              "      <th>ACOUSTIC</th>\n",
              "      <th>INSTRUMENTAL</th>\n",
              "      <th>LIVE</th>\n",
              "      <th>LOUD</th>\n",
              "      <th>TEMP</th>\n",
              "      <th>KEY</th>\n",
              "      <th>CAMELOT</th>\n",
              "      <th>TIME SIGNATURE</th>\n",
              "      <th>ID</th>\n",
              "    </tr>\n",
              "  </thead>\n",
              "  <tbody>\n",
              "    <tr>\n",
              "      <th>0</th>\n",
              "      <td>Kryptonite</td>\n",
              "      <td>3 Doors Down</td>\n",
              "      <td>Alternative Rock</td>\n",
              "      <td>The Better Life</td>\n",
              "      <td>2000</td>\n",
              "      <td>3:53</td>\n",
              "      <td>82</td>\n",
              "      <td>55</td>\n",
              "      <td>87</td>\n",
              "      <td>54</td>\n",
              "      <td>3</td>\n",
              "      <td>1</td>\n",
              "      <td>0</td>\n",
              "      <td>17</td>\n",
              "      <td>-6 db</td>\n",
              "      <td>99</td>\n",
              "      <td>B Minor</td>\n",
              "      <td>10A</td>\n",
              "      <td>4</td>\n",
              "      <td>6ZOBP3NvffbU4SZcrnt1k6</td>\n",
              "    </tr>\n",
              "    <tr>\n",
              "      <th>1</th>\n",
              "      <td>Flying</td>\n",
              "      <td>Anathema</td>\n",
              "      <td>Progressive Doom</td>\n",
              "      <td>Hindsight</td>\n",
              "      <td>2008</td>\n",
              "      <td>6:27</td>\n",
              "      <td>33</td>\n",
              "      <td>25</td>\n",
              "      <td>55</td>\n",
              "      <td>5</td>\n",
              "      <td>3</td>\n",
              "      <td>13</td>\n",
              "      <td>0</td>\n",
              "      <td>13</td>\n",
              "      <td>-8 db</td>\n",
              "      <td>145</td>\n",
              "      <td>C Minor</td>\n",
              "      <td>5A</td>\n",
              "      <td>3</td>\n",
              "      <td>4LknIoUqp497nUCdcd6nRs</td>\n",
              "    </tr>\n",
              "    <tr>\n",
              "      <th>2</th>\n",
              "      <td>One Last Goodbye</td>\n",
              "      <td>Anathema</td>\n",
              "      <td>Progressive Doom</td>\n",
              "      <td>Hindsight</td>\n",
              "      <td>2008</td>\n",
              "      <td>6:03</td>\n",
              "      <td>31</td>\n",
              "      <td>38</td>\n",
              "      <td>23</td>\n",
              "      <td>10</td>\n",
              "      <td>3</td>\n",
              "      <td>76</td>\n",
              "      <td>0</td>\n",
              "      <td>9</td>\n",
              "      <td>-8 db</td>\n",
              "      <td>100</td>\n",
              "      <td>B Minor</td>\n",
              "      <td>10A</td>\n",
              "      <td>3</td>\n",
              "      <td>1jUsNXxk8rz82nUYPnsGla</td>\n",
              "    </tr>\n",
              "    <tr>\n",
              "      <th>3</th>\n",
              "      <td>Velvet Goldmine</td>\n",
              "      <td>David Bowie</td>\n",
              "      <td>Glam Rock</td>\n",
              "      <td>Five Years</td>\n",
              "      <td>2015</td>\n",
              "      <td>3:10</td>\n",
              "      <td>42</td>\n",
              "      <td>62</td>\n",
              "      <td>63</td>\n",
              "      <td>89</td>\n",
              "      <td>3</td>\n",
              "      <td>64</td>\n",
              "      <td>0</td>\n",
              "      <td>16</td>\n",
              "      <td>-12 db</td>\n",
              "      <td>94</td>\n",
              "      <td>F Major</td>\n",
              "      <td>7B</td>\n",
              "      <td>4</td>\n",
              "      <td>6GCNEAIZVH4lKQD30lfQ6f</td>\n",
              "    </tr>\n",
              "    <tr>\n",
              "      <th>4</th>\n",
              "      <td>Lose Yourself</td>\n",
              "      <td>Eminem</td>\n",
              "      <td>Hip-Hop</td>\n",
              "      <td>8 Mile</td>\n",
              "      <td>2002</td>\n",
              "      <td>5:20</td>\n",
              "      <td>70</td>\n",
              "      <td>68</td>\n",
              "      <td>74</td>\n",
              "      <td>6</td>\n",
              "      <td>27</td>\n",
              "      <td>1</td>\n",
              "      <td>0</td>\n",
              "      <td>29</td>\n",
              "      <td>-5 db</td>\n",
              "      <td>171</td>\n",
              "      <td>D Major</td>\n",
              "      <td>10B</td>\n",
              "      <td>4</td>\n",
              "      <td>6GkTKjv1XbFVdI2D8vvDPu</td>\n",
              "    </tr>\n",
              "  </tbody>\n",
              "</table>\n",
              "</div>\n",
              "      <button class=\"colab-df-convert\" onclick=\"convertToInteractive('df-1f9b273a-7ed9-4090-a29c-081ef8595c44')\"\n",
              "              title=\"Convert this dataframe to an interactive table.\"\n",
              "              style=\"display:none;\">\n",
              "        \n",
              "  <svg xmlns=\"http://www.w3.org/2000/svg\" height=\"24px\"viewBox=\"0 0 24 24\"\n",
              "       width=\"24px\">\n",
              "    <path d=\"M0 0h24v24H0V0z\" fill=\"none\"/>\n",
              "    <path d=\"M18.56 5.44l.94 2.06.94-2.06 2.06-.94-2.06-.94-.94-2.06-.94 2.06-2.06.94zm-11 1L8.5 8.5l.94-2.06 2.06-.94-2.06-.94L8.5 2.5l-.94 2.06-2.06.94zm10 10l.94 2.06.94-2.06 2.06-.94-2.06-.94-.94-2.06-.94 2.06-2.06.94z\"/><path d=\"M17.41 7.96l-1.37-1.37c-.4-.4-.92-.59-1.43-.59-.52 0-1.04.2-1.43.59L10.3 9.45l-7.72 7.72c-.78.78-.78 2.05 0 2.83L4 21.41c.39.39.9.59 1.41.59.51 0 1.02-.2 1.41-.59l7.78-7.78 2.81-2.81c.8-.78.8-2.07 0-2.86zM5.41 20L4 18.59l7.72-7.72 1.47 1.35L5.41 20z\"/>\n",
              "  </svg>\n",
              "      </button>\n",
              "      \n",
              "  <style>\n",
              "    .colab-df-container {\n",
              "      display:flex;\n",
              "      flex-wrap:wrap;\n",
              "      gap: 12px;\n",
              "    }\n",
              "\n",
              "    .colab-df-convert {\n",
              "      background-color: #E8F0FE;\n",
              "      border: none;\n",
              "      border-radius: 50%;\n",
              "      cursor: pointer;\n",
              "      display: none;\n",
              "      fill: #1967D2;\n",
              "      height: 32px;\n",
              "      padding: 0 0 0 0;\n",
              "      width: 32px;\n",
              "    }\n",
              "\n",
              "    .colab-df-convert:hover {\n",
              "      background-color: #E2EBFA;\n",
              "      box-shadow: 0px 1px 2px rgba(60, 64, 67, 0.3), 0px 1px 3px 1px rgba(60, 64, 67, 0.15);\n",
              "      fill: #174EA6;\n",
              "    }\n",
              "\n",
              "    [theme=dark] .colab-df-convert {\n",
              "      background-color: #3B4455;\n",
              "      fill: #D2E3FC;\n",
              "    }\n",
              "\n",
              "    [theme=dark] .colab-df-convert:hover {\n",
              "      background-color: #434B5C;\n",
              "      box-shadow: 0px 1px 3px 1px rgba(0, 0, 0, 0.15);\n",
              "      filter: drop-shadow(0px 1px 2px rgba(0, 0, 0, 0.3));\n",
              "      fill: #FFFFFF;\n",
              "    }\n",
              "  </style>\n",
              "\n",
              "      <script>\n",
              "        const buttonEl =\n",
              "          document.querySelector('#df-1f9b273a-7ed9-4090-a29c-081ef8595c44 button.colab-df-convert');\n",
              "        buttonEl.style.display =\n",
              "          google.colab.kernel.accessAllowed ? 'block' : 'none';\n",
              "\n",
              "        async function convertToInteractive(key) {\n",
              "          const element = document.querySelector('#df-1f9b273a-7ed9-4090-a29c-081ef8595c44');\n",
              "          const dataTable =\n",
              "            await google.colab.kernel.invokeFunction('convertToInteractive',\n",
              "                                                     [key], {});\n",
              "          if (!dataTable) return;\n",
              "\n",
              "          const docLinkHtml = 'Like what you see? Visit the ' +\n",
              "            '<a target=\"_blank\" href=https://colab.research.google.com/notebooks/data_table.ipynb>data table notebook</a>'\n",
              "            + ' to learn more about interactive tables.';\n",
              "          element.innerHTML = '';\n",
              "          dataTable['output_type'] = 'display_data';\n",
              "          await google.colab.output.renderOutput(dataTable, element);\n",
              "          const docLink = document.createElement('div');\n",
              "          docLink.innerHTML = docLinkHtml;\n",
              "          element.appendChild(docLink);\n",
              "        }\n",
              "      </script>\n",
              "    </div>\n",
              "  </div>\n",
              "  "
            ]
          },
          "metadata": {},
          "execution_count": 49
        }
      ]
    },
    {
      "cell_type": "code",
      "source": [
        "from sklearn.model_selection import train_test_split\n",
        "x_train, x_test, y_train, y_test = train_test_split(x, y, test_size = 0.25, random_state = 0)"
      ],
      "metadata": {
        "id": "zFhGkejUPDkk"
      },
      "execution_count": 50,
      "outputs": []
    },
    {
      "cell_type": "code",
      "source": [
        "from sklearn.preprocessing import StandardScaler\n",
        "sc = StandardScaler()\n",
        "x_train = sc.fit_transform(x_train)\n",
        "x_test = sc.transform(x_test) "
      ],
      "metadata": {
        "id": "OTUdSg4RQijp"
      },
      "execution_count": 51,
      "outputs": []
    },
    {
      "cell_type": "code",
      "source": [
        "from sklearn.neighbors import KNeighborsClassifier\n",
        "classifier = KNeighborsClassifier(n_neighbors = 5, metric = 'minkowski', p = 2)\n",
        "classifier.fit(x_train, y_train) "
      ],
      "metadata": {
        "id": "7WY0cQPKQjHD",
        "colab": {
          "base_uri": "https://localhost:8080/"
        },
        "outputId": "57d9a2c6-c252-4276-c7dc-2e68894a54a5"
      },
      "execution_count": 52,
      "outputs": [
        {
          "output_type": "execute_result",
          "data": {
            "text/plain": [
              "KNeighborsClassifier()"
            ]
          },
          "metadata": {},
          "execution_count": 52
        }
      ]
    },
    {
      "cell_type": "code",
      "source": [
        "y_pred = classifier.predict(x_test) "
      ],
      "metadata": {
        "id": "gt8sRNLbQlRe"
      },
      "execution_count": 53,
      "outputs": []
    },
    {
      "cell_type": "code",
      "source": [
        "from sklearn.metrics import confusion_matrix\n",
        "cm = confusion_matrix(y_test, y_pred)\n",
        "print(cm) "
      ],
      "metadata": {
        "id": "4aT7pA7cQnJk",
        "colab": {
          "base_uri": "https://localhost:8080/"
        },
        "outputId": "099450cf-bddd-4ad9-8ae9-0427c8f1401f"
      },
      "execution_count": 54,
      "outputs": [
        {
          "output_type": "stream",
          "name": "stdout",
          "text": [
            "[[ 0  3]\n",
            " [ 0 10]]\n"
          ]
        }
      ]
    },
    {
      "cell_type": "code",
      "source": [
        "from matplotlib.colors import ListedColormap\n",
        "x_set, y_set = x_train, y_train\n",
        "x1, x2 = np.meshgrid(np.arange(start = x_set[:, 0].min() - 1, stop = x_set[:, 0].max() + 1, step = 0.01),\n",
        "                     np.arange(start = x_set[:, 1].min() - 1, stop = x_set[:, 1].max() + 1, step = 0.01))\n",
        "plt.contourf(x1, x2, classifier.predict(np.array([x1.ravel(), x2.ravel()]).T).reshape(x1.shape) ,\n",
        "             alpha = 0.75, cmap = ListedColormap(('red', 'green')))\n",
        "plt.xlim(x1.min(), x1.max())\n",
        "plt.ylim(x2.min(), x2.max())\n",
        "for i, j in enumerate(np.unique(y_set)):\n",
        "  plt.scatter(x_set[y_set == j, 0], x_set[y_set == j, 1],\n",
        "              c = ListedColormap(('red', 'green'))(i), label = j)\n",
        "plt.title('K-NN (Training set)')\n",
        "plt.xlabel('Age')\n",
        "plt.ylabel('Estimated Salary')\n",
        "plt.legend()\n",
        "plt.show() "
      ],
      "metadata": {
        "id": "RazVYi2PQqY_",
        "colab": {
          "base_uri": "https://localhost:8080/",
          "height": 350
        },
        "outputId": "2e26233b-7029-4ddf-e2ff-ee7bf57120b8"
      },
      "execution_count": 55,
      "outputs": [
        {
          "output_type": "stream",
          "name": "stderr",
          "text": [
            "*c* argument looks like a single numeric RGB or RGBA sequence, which should be avoided as value-mapping will have precedence in case its length matches with *x* & *y*.  Please use the *color* keyword-argument or provide a 2-D array with a single row if you intend to specify the same RGB or RGBA value for all points.\n",
            "*c* argument looks like a single numeric RGB or RGBA sequence, which should be avoided as value-mapping will have precedence in case its length matches with *x* & *y*.  Please use the *color* keyword-argument or provide a 2-D array with a single row if you intend to specify the same RGB or RGBA value for all points.\n"
          ]
        },
        {
          "output_type": "display_data",
          "data": {
            "text/plain": [
              "<Figure size 432x288 with 1 Axes>"
            ],
            "image/png": "[encoded data removed]"
          },
          "metadata": {
            "needs_background": "light"
          }
        }
      ]
    },
    {
      "cell_type": "code",
      "source": [
        "from matplotlib.colors import ListedColormap\n",
        "x_set, y_set = x_test, y_test\n",
        "x1, x2 = np.meshgrid(np.arange(start = x_set[:, 0].min() - 1, stop = x_set[:, 0].max() + 1, step = 0.01),\n",
        "                     np.arange(start = x_set[:, 1].min() - 1, stop = x_set[:, 1].max() + 1, step = 0.01))\n",
        "plt.contourf(x1, x2, classifier.predict(np.array([x1.ravel(), x2.ravel()]).T).reshape(x1.shape) ,\n",
        "             alpha = 0.75, cmap = ListedColormap(('red', 'green')))\n",
        "plt.xlim(x1.min(), x1.max())\n",
        "plt.ylim(x2.min(), x2.max())\n",
        "for i, j in enumerate(np.unique(y_set)):\n",
        "  plt.scatter(x_set[y_set == j, 0], x_set[y_set == j, 1],\n",
        "              c = ListedColormap(('red', 'green'))(i), label = j)\n",
        "plt.title('K-NN (Test set)')\n",
        "plt.xlabel('Age')\n",
        "plt.ylabel('Estimated Salary')\n",
        "plt.legend()\n",
        "plt.show()"
      ],
      "metadata": {
        "id": "zylmomCXQ6ji",
        "colab": {
          "base_uri": "https://localhost:8080/",
          "height": 350
        },
        "outputId": "da603722-883f-4be9-b9d7-9f11d806e6f1"
      },
      "execution_count": 56,
      "outputs": [
        {
          "output_type": "stream",
          "name": "stderr",
          "text": [
            "*c* argument looks like a single numeric RGB or RGBA sequence, which should be avoided as value-mapping will have precedence in case its length matches with *x* & *y*.  Please use the *color* keyword-argument or provide a 2-D array with a single row if you intend to specify the same RGB or RGBA value for all points.\n",
            "*c* argument looks like a single numeric RGB or RGBA sequence, which should be avoided as value-mapping will have precedence in case its length matches with *x* & *y*.  Please use the *color* keyword-argument or provide a 2-D array with a single row if you intend to specify the same RGB or RGBA value for all points.\n"
          ]
        },
        {
          "output_type": "display_data",
          "data": {
            "text/plain": [
              "<Figure size 432x288 with 1 Axes>"
            ],
            "image/png": "[encoded data removed]"
          },
          "metadata": {
            "needs_background": "light"
          }
        }
      ]
    }
  ]
}